{
  "nbformat": 4,
  "nbformat_minor": 0,
  "metadata": {
    "colab": {
      "provenance": []
    },
    "kernelspec": {
      "name": "python3",
      "display_name": "Python 3"
    },
    "language_info": {
      "name": "python"
    }
  },
  "cells": [
    {
      "cell_type": "markdown",
      "source": [
        "# Preprocessing Data"
      ],
      "metadata": {
        "id": "MlLCR-0wfagM"
      }
    },
    {
      "cell_type": "markdown",
      "source": [
        "# 1. Memuat Data"
      ],
      "metadata": {
        "id": "y4IO1Y5Qec6f"
      }
    },
    {
      "cell_type": "markdown",
      "source": [
        "**Import library dan membaca data**"
      ],
      "metadata": {
        "id": "7hrrm8ibd138"
      }
    },
    {
      "cell_type": "code",
      "execution_count": null,
      "metadata": {
        "id": "94aZYurra6Lb"
      },
      "outputs": [],
      "source": [
        "import pandas as pd\n",
        "df = pd.read_csv(\"/content/movie_sample_dataset.csv\")"
      ]
    },
    {
      "cell_type": "markdown",
      "source": [
        "# 2. Memeriksa Data"
      ],
      "metadata": {
        "id": "Q2PIovz7epFD"
      }
    },
    {
      "cell_type": "markdown",
      "source": [
        "**Menampilkan 5 baris pertama dari dataset**"
      ],
      "metadata": {
        "id": "VIFfWqZXYFNO"
      }
    },
    {
      "cell_type": "code",
      "source": [
        "df.head()"
      ],
      "metadata": {
        "colab": {
          "base_uri": "https://localhost:8080/",
          "height": 487
        },
        "id": "Jtk4E6BhX5bU",
        "outputId": "1a45d3a8-69a4-4f23-a448-bcb733a4b4c1"
      },
      "execution_count": null,
      "outputs": [
        {
          "output_type": "execute_result",
          "data": {
            "text/plain": [
              "    color      director_name  duration        gross  \\\n",
              "0   Color    Martin Scorsese       240  116866727.0   \n",
              "1   Color        Shane Black       195  408992272.0   \n",
              "2  color   Quentin Tarantino       187   54116191.0   \n",
              "3   Color   Kenneth Lonergan       186      46495.0   \n",
              "4   Color      Peter Jackson       186  258355354.0   \n",
              "\n",
              "                                 genres                          movie_title  \\\n",
              "0          Biography|Comedy|Crime|Drama              The Wolf of Wall Street   \n",
              "1               Action|Adventure|Sci-Fi                           Iron Man 3   \n",
              "2  Crime|Drama|Mystery|Thriller|Western                    The Hateful Eight   \n",
              "3                                 Drama                             Margaret   \n",
              "4                     Adventure|Fantasy  The Hobbit: The Desolation of Smaug   \n",
              "\n",
              "   title_year language country       budget  imdb_score  \\\n",
              "0        2013  English     USA  100000000.0         8.2   \n",
              "1        2013  English     USA  200000000.0         7.2   \n",
              "2        2015  English     USA   44000000.0         7.9   \n",
              "3        2011  English     usa   14000000.0         6.5   \n",
              "4        2013  English     USA  225000000.0         7.9   \n",
              "\n",
              "                                              actors  movie_facebook_likes  \n",
              "0  Leonardo DiCaprio,Matthew McConaughey,Jon Favreau                138000  \n",
              "1          Robert Downey Jr.,Jon Favreau,Don Cheadle                 95000  \n",
              "2          Craig Stark,Jennifer Jason Leigh,Zoë Bell                114000  \n",
              "3        Matt Damon,Kieran Culkin,John Gallagher Jr.                     0  \n",
              "4              Aidan Turner,Adam Brown,James Nesbitt                 83000  "
            ],
            "text/html": [
              "\n",
              "  <div id=\"df-49234235-d644-43b0-8143-ab07bd31dc13\" class=\"colab-df-container\">\n",
              "    <div>\n",
              "<style scoped>\n",
              "    .dataframe tbody tr th:only-of-type {\n",
              "        vertical-align: middle;\n",
              "    }\n",
              "\n",
              "    .dataframe tbody tr th {\n",
              "        vertical-align: top;\n",
              "    }\n",
              "\n",
              "    .dataframe thead th {\n",
              "        text-align: right;\n",
              "    }\n",
              "</style>\n",
              "<table border=\"1\" class=\"dataframe\">\n",
              "  <thead>\n",
              "    <tr style=\"text-align: right;\">\n",
              "      <th></th>\n",
              "      <th>color</th>\n",
              "      <th>director_name</th>\n",
              "      <th>duration</th>\n",
              "      <th>gross</th>\n",
              "      <th>genres</th>\n",
              "      <th>movie_title</th>\n",
              "      <th>title_year</th>\n",
              "      <th>language</th>\n",
              "      <th>country</th>\n",
              "      <th>budget</th>\n",
              "      <th>imdb_score</th>\n",
              "      <th>actors</th>\n",
              "      <th>movie_facebook_likes</th>\n",
              "    </tr>\n",
              "  </thead>\n",
              "  <tbody>\n",
              "    <tr>\n",
              "      <th>0</th>\n",
              "      <td>Color</td>\n",
              "      <td>Martin Scorsese</td>\n",
              "      <td>240</td>\n",
              "      <td>116866727.0</td>\n",
              "      <td>Biography|Comedy|Crime|Drama</td>\n",
              "      <td>The Wolf of Wall Street</td>\n",
              "      <td>2013</td>\n",
              "      <td>English</td>\n",
              "      <td>USA</td>\n",
              "      <td>100000000.0</td>\n",
              "      <td>8.2</td>\n",
              "      <td>Leonardo DiCaprio,Matthew McConaughey,Jon Favreau</td>\n",
              "      <td>138000</td>\n",
              "    </tr>\n",
              "    <tr>\n",
              "      <th>1</th>\n",
              "      <td>Color</td>\n",
              "      <td>Shane Black</td>\n",
              "      <td>195</td>\n",
              "      <td>408992272.0</td>\n",
              "      <td>Action|Adventure|Sci-Fi</td>\n",
              "      <td>Iron Man 3</td>\n",
              "      <td>2013</td>\n",
              "      <td>English</td>\n",
              "      <td>USA</td>\n",
              "      <td>200000000.0</td>\n",
              "      <td>7.2</td>\n",
              "      <td>Robert Downey Jr.,Jon Favreau,Don Cheadle</td>\n",
              "      <td>95000</td>\n",
              "    </tr>\n",
              "    <tr>\n",
              "      <th>2</th>\n",
              "      <td>color</td>\n",
              "      <td>Quentin Tarantino</td>\n",
              "      <td>187</td>\n",
              "      <td>54116191.0</td>\n",
              "      <td>Crime|Drama|Mystery|Thriller|Western</td>\n",
              "      <td>The Hateful Eight</td>\n",
              "      <td>2015</td>\n",
              "      <td>English</td>\n",
              "      <td>USA</td>\n",
              "      <td>44000000.0</td>\n",
              "      <td>7.9</td>\n",
              "      <td>Craig Stark,Jennifer Jason Leigh,Zoë Bell</td>\n",
              "      <td>114000</td>\n",
              "    </tr>\n",
              "    <tr>\n",
              "      <th>3</th>\n",
              "      <td>Color</td>\n",
              "      <td>Kenneth Lonergan</td>\n",
              "      <td>186</td>\n",
              "      <td>46495.0</td>\n",
              "      <td>Drama</td>\n",
              "      <td>Margaret</td>\n",
              "      <td>2011</td>\n",
              "      <td>English</td>\n",
              "      <td>usa</td>\n",
              "      <td>14000000.0</td>\n",
              "      <td>6.5</td>\n",
              "      <td>Matt Damon,Kieran Culkin,John Gallagher Jr.</td>\n",
              "      <td>0</td>\n",
              "    </tr>\n",
              "    <tr>\n",
              "      <th>4</th>\n",
              "      <td>Color</td>\n",
              "      <td>Peter Jackson</td>\n",
              "      <td>186</td>\n",
              "      <td>258355354.0</td>\n",
              "      <td>Adventure|Fantasy</td>\n",
              "      <td>The Hobbit: The Desolation of Smaug</td>\n",
              "      <td>2013</td>\n",
              "      <td>English</td>\n",
              "      <td>USA</td>\n",
              "      <td>225000000.0</td>\n",
              "      <td>7.9</td>\n",
              "      <td>Aidan Turner,Adam Brown,James Nesbitt</td>\n",
              "      <td>83000</td>\n",
              "    </tr>\n",
              "  </tbody>\n",
              "</table>\n",
              "</div>\n",
              "    <div class=\"colab-df-buttons\">\n",
              "\n",
              "  <div class=\"colab-df-container\">\n",
              "    <button class=\"colab-df-convert\" onclick=\"convertToInteractive('df-49234235-d644-43b0-8143-ab07bd31dc13')\"\n",
              "            title=\"Convert this dataframe to an interactive table.\"\n",
              "            style=\"display:none;\">\n",
              "\n",
              "  <svg xmlns=\"http://www.w3.org/2000/svg\" height=\"24px\" viewBox=\"0 -960 960 960\">\n",
              "    <path d=\"M120-120v-720h720v720H120Zm60-500h600v-160H180v160Zm220 220h160v-160H400v160Zm0 220h160v-160H400v160ZM180-400h160v-160H180v160Zm440 0h160v-160H620v160ZM180-180h160v-160H180v160Zm440 0h160v-160H620v160Z\"/>\n",
              "  </svg>\n",
              "    </button>\n",
              "\n",
              "  <style>\n",
              "    .colab-df-container {\n",
              "      display:flex;\n",
              "      gap: 12px;\n",
              "    }\n",
              "\n",
              "    .colab-df-convert {\n",
              "      background-color: #E8F0FE;\n",
              "      border: none;\n",
              "      border-radius: 50%;\n",
              "      cursor: pointer;\n",
              "      display: none;\n",
              "      fill: #1967D2;\n",
              "      height: 32px;\n",
              "      padding: 0 0 0 0;\n",
              "      width: 32px;\n",
              "    }\n",
              "\n",
              "    .colab-df-convert:hover {\n",
              "      background-color: #E2EBFA;\n",
              "      box-shadow: 0px 1px 2px rgba(60, 64, 67, 0.3), 0px 1px 3px 1px rgba(60, 64, 67, 0.15);\n",
              "      fill: #174EA6;\n",
              "    }\n",
              "\n",
              "    .colab-df-buttons div {\n",
              "      margin-bottom: 4px;\n",
              "    }\n",
              "\n",
              "    [theme=dark] .colab-df-convert {\n",
              "      background-color: #3B4455;\n",
              "      fill: #D2E3FC;\n",
              "    }\n",
              "\n",
              "    [theme=dark] .colab-df-convert:hover {\n",
              "      background-color: #434B5C;\n",
              "      box-shadow: 0px 1px 3px 1px rgba(0, 0, 0, 0.15);\n",
              "      filter: drop-shadow(0px 1px 2px rgba(0, 0, 0, 0.3));\n",
              "      fill: #FFFFFF;\n",
              "    }\n",
              "  </style>\n",
              "\n",
              "    <script>\n",
              "      const buttonEl =\n",
              "        document.querySelector('#df-49234235-d644-43b0-8143-ab07bd31dc13 button.colab-df-convert');\n",
              "      buttonEl.style.display =\n",
              "        google.colab.kernel.accessAllowed ? 'block' : 'none';\n",
              "\n",
              "      async function convertToInteractive(key) {\n",
              "        const element = document.querySelector('#df-49234235-d644-43b0-8143-ab07bd31dc13');\n",
              "        const dataTable =\n",
              "          await google.colab.kernel.invokeFunction('convertToInteractive',\n",
              "                                                    [key], {});\n",
              "        if (!dataTable) return;\n",
              "\n",
              "        const docLinkHtml = 'Like what you see? Visit the ' +\n",
              "          '<a target=\"_blank\" href=https://colab.research.google.com/notebooks/data_table.ipynb>data table notebook</a>'\n",
              "          + ' to learn more about interactive tables.';\n",
              "        element.innerHTML = '';\n",
              "        dataTable['output_type'] = 'display_data';\n",
              "        await google.colab.output.renderOutput(dataTable, element);\n",
              "        const docLink = document.createElement('div');\n",
              "        docLink.innerHTML = docLinkHtml;\n",
              "        element.appendChild(docLink);\n",
              "      }\n",
              "    </script>\n",
              "  </div>\n",
              "\n",
              "\n",
              "    <div id=\"df-4e203eae-fde1-40b2-8e52-2d30c42dc48c\">\n",
              "      <button class=\"colab-df-quickchart\" onclick=\"quickchart('df-4e203eae-fde1-40b2-8e52-2d30c42dc48c')\"\n",
              "                title=\"Suggest charts\"\n",
              "                style=\"display:none;\">\n",
              "\n",
              "<svg xmlns=\"http://www.w3.org/2000/svg\" height=\"24px\"viewBox=\"0 0 24 24\"\n",
              "     width=\"24px\">\n",
              "    <g>\n",
              "        <path d=\"M19 3H5c-1.1 0-2 .9-2 2v14c0 1.1.9 2 2 2h14c1.1 0 2-.9 2-2V5c0-1.1-.9-2-2-2zM9 17H7v-7h2v7zm4 0h-2V7h2v10zm4 0h-2v-4h2v4z\"/>\n",
              "    </g>\n",
              "</svg>\n",
              "      </button>\n",
              "\n",
              "<style>\n",
              "  .colab-df-quickchart {\n",
              "      --bg-color: #E8F0FE;\n",
              "      --fill-color: #1967D2;\n",
              "      --hover-bg-color: #E2EBFA;\n",
              "      --hover-fill-color: #174EA6;\n",
              "      --disabled-fill-color: #AAA;\n",
              "      --disabled-bg-color: #DDD;\n",
              "  }\n",
              "\n",
              "  [theme=dark] .colab-df-quickchart {\n",
              "      --bg-color: #3B4455;\n",
              "      --fill-color: #D2E3FC;\n",
              "      --hover-bg-color: #434B5C;\n",
              "      --hover-fill-color: #FFFFFF;\n",
              "      --disabled-bg-color: #3B4455;\n",
              "      --disabled-fill-color: #666;\n",
              "  }\n",
              "\n",
              "  .colab-df-quickchart {\n",
              "    background-color: var(--bg-color);\n",
              "    border: none;\n",
              "    border-radius: 50%;\n",
              "    cursor: pointer;\n",
              "    display: none;\n",
              "    fill: var(--fill-color);\n",
              "    height: 32px;\n",
              "    padding: 0;\n",
              "    width: 32px;\n",
              "  }\n",
              "\n",
              "  .colab-df-quickchart:hover {\n",
              "    background-color: var(--hover-bg-color);\n",
              "    box-shadow: 0 1px 2px rgba(60, 64, 67, 0.3), 0 1px 3px 1px rgba(60, 64, 67, 0.15);\n",
              "    fill: var(--button-hover-fill-color);\n",
              "  }\n",
              "\n",
              "  .colab-df-quickchart-complete:disabled,\n",
              "  .colab-df-quickchart-complete:disabled:hover {\n",
              "    background-color: var(--disabled-bg-color);\n",
              "    fill: var(--disabled-fill-color);\n",
              "    box-shadow: none;\n",
              "  }\n",
              "\n",
              "  .colab-df-spinner {\n",
              "    border: 2px solid var(--fill-color);\n",
              "    border-color: transparent;\n",
              "    border-bottom-color: var(--fill-color);\n",
              "    animation:\n",
              "      spin 1s steps(1) infinite;\n",
              "  }\n",
              "\n",
              "  @keyframes spin {\n",
              "    0% {\n",
              "      border-color: transparent;\n",
              "      border-bottom-color: var(--fill-color);\n",
              "      border-left-color: var(--fill-color);\n",
              "    }\n",
              "    20% {\n",
              "      border-color: transparent;\n",
              "      border-left-color: var(--fill-color);\n",
              "      border-top-color: var(--fill-color);\n",
              "    }\n",
              "    30% {\n",
              "      border-color: transparent;\n",
              "      border-left-color: var(--fill-color);\n",
              "      border-top-color: var(--fill-color);\n",
              "      border-right-color: var(--fill-color);\n",
              "    }\n",
              "    40% {\n",
              "      border-color: transparent;\n",
              "      border-right-color: var(--fill-color);\n",
              "      border-top-color: var(--fill-color);\n",
              "    }\n",
              "    60% {\n",
              "      border-color: transparent;\n",
              "      border-right-color: var(--fill-color);\n",
              "    }\n",
              "    80% {\n",
              "      border-color: transparent;\n",
              "      border-right-color: var(--fill-color);\n",
              "      border-bottom-color: var(--fill-color);\n",
              "    }\n",
              "    90% {\n",
              "      border-color: transparent;\n",
              "      border-bottom-color: var(--fill-color);\n",
              "    }\n",
              "  }\n",
              "</style>\n",
              "\n",
              "      <script>\n",
              "        async function quickchart(key) {\n",
              "          const quickchartButtonEl =\n",
              "            document.querySelector('#' + key + ' button');\n",
              "          quickchartButtonEl.disabled = true;  // To prevent multiple clicks.\n",
              "          quickchartButtonEl.classList.add('colab-df-spinner');\n",
              "          try {\n",
              "            const charts = await google.colab.kernel.invokeFunction(\n",
              "                'suggestCharts', [key], {});\n",
              "          } catch (error) {\n",
              "            console.error('Error during call to suggestCharts:', error);\n",
              "          }\n",
              "          quickchartButtonEl.classList.remove('colab-df-spinner');\n",
              "          quickchartButtonEl.classList.add('colab-df-quickchart-complete');\n",
              "        }\n",
              "        (() => {\n",
              "          let quickchartButtonEl =\n",
              "            document.querySelector('#df-4e203eae-fde1-40b2-8e52-2d30c42dc48c button');\n",
              "          quickchartButtonEl.style.display =\n",
              "            google.colab.kernel.accessAllowed ? 'block' : 'none';\n",
              "        })();\n",
              "      </script>\n",
              "    </div>\n",
              "\n",
              "    </div>\n",
              "  </div>\n"
            ],
            "application/vnd.google.colaboratory.intrinsic+json": {
              "type": "dataframe",
              "variable_name": "df",
              "summary": "{\n  \"name\": \"df\",\n  \"rows\": 99,\n  \"fields\": [\n    {\n      \"column\": \"color\",\n      \"properties\": {\n        \"dtype\": \"category\",\n        \"num_unique_values\": 3,\n        \"samples\": [\n          \"Color\",\n          \"color \",\n          \" Black and White\"\n        ],\n        \"semantic_type\": \"\",\n        \"description\": \"\"\n      }\n    },\n    {\n      \"column\": \"director_name\",\n      \"properties\": {\n        \"dtype\": \"string\",\n        \"num_unique_values\": 63,\n        \"samples\": [\n          \"David Ayer\",\n          \"Tony Gilroy\",\n          \"Martin Scorsese\"\n        ],\n        \"semantic_type\": \"\",\n        \"description\": \"\"\n      }\n    },\n    {\n      \"column\": \"duration\",\n      \"properties\": {\n        \"dtype\": \"number\",\n        \"std\": 72,\n        \"min\": -50,\n        \"max\": 650,\n        \"num_unique_values\": 39,\n        \"samples\": [\n          138,\n          135,\n          183\n        ],\n        \"semantic_type\": \"\",\n        \"description\": \"\"\n      }\n    },\n    {\n      \"column\": \"gross\",\n      \"properties\": {\n        \"dtype\": \"number\",\n        \"std\": 139950256.81859657,\n        \"min\": 41229.0,\n        \"max\": 623279547.0,\n        \"num_unique_values\": 85,\n        \"samples\": [\n          52474616.0,\n          116866727.0,\n          132550960.0\n        ],\n        \"semantic_type\": \"\",\n        \"description\": \"\"\n      }\n    },\n    {\n      \"column\": \"genres\",\n      \"properties\": {\n        \"dtype\": \"string\",\n        \"num_unique_values\": 56,\n        \"samples\": [\n          \"Biography|Comedy|Crime|Drama\",\n          \"Drama|Romance\",\n          \"Drama|Horror|Thriller\"\n        ],\n        \"semantic_type\": \"\",\n        \"description\": \"\"\n      }\n    },\n    {\n      \"column\": \"movie_title\",\n      \"properties\": {\n        \"dtype\": \"string\",\n        \"num_unique_values\": 91,\n        \"samples\": [\n          \"The Help\",\n          \"The Revenant\",\n          \"Avengers: Age of Ultron\"\n        ],\n        \"semantic_type\": \"\",\n        \"description\": \"\"\n      }\n    },\n    {\n      \"column\": \"title_year\",\n      \"properties\": {\n        \"dtype\": \"number\",\n        \"std\": 255,\n        \"min\": 202,\n        \"max\": 2016,\n        \"num_unique_values\": 9,\n        \"samples\": [\n          2016,\n          2015,\n          2014\n        ],\n        \"semantic_type\": \"\",\n        \"description\": \"\"\n      }\n    },\n    {\n      \"column\": \"language\",\n      \"properties\": {\n        \"dtype\": \"category\",\n        \"num_unique_values\": 1,\n        \"samples\": [\n          \"English\"\n        ],\n        \"semantic_type\": \"\",\n        \"description\": \"\"\n      }\n    },\n    {\n      \"column\": \"country\",\n      \"properties\": {\n        \"dtype\": \"category\",\n        \"num_unique_values\": 12,\n        \"samples\": [\n          \"Kyrgyzstan\"\n        ],\n        \"semantic_type\": \"\",\n        \"description\": \"\"\n      }\n    },\n    {\n      \"column\": \"budget\",\n      \"properties\": {\n        \"dtype\": \"number\",\n        \"std\": 77031692.48433194,\n        \"min\": 17350.0,\n        \"max\": 250000000.0,\n        \"num_unique_values\": 56,\n        \"samples\": [\n          100000000.0\n        ],\n        \"semantic_type\": \"\",\n        \"description\": \"\"\n      }\n    },\n    {\n      \"column\": \"imdb_score\",\n      \"properties\": {\n        \"dtype\": \"number\",\n        \"std\": 1.925513582443392,\n        \"min\": -7.5,\n        \"max\": 8.8,\n        \"num_unique_values\": 35,\n        \"samples\": [\n          3.0\n        ],\n        \"semantic_type\": \"\",\n        \"description\": \"\"\n      }\n    },\n    {\n      \"column\": \"actors\",\n      \"properties\": {\n        \"dtype\": \"string\",\n        \"num_unique_values\": 88,\n        \"samples\": [\n          \"Liam Neeson,Charlize Theron,Seth MacFarlane\"\n        ],\n        \"semantic_type\": \"\",\n        \"description\": \"\"\n      }\n    },\n    {\n      \"column\": \"movie_facebook_likes\",\n      \"properties\": {\n        \"dtype\": \"number\",\n        \"std\": 58108,\n        \"min\": 0,\n        \"max\": 349000,\n        \"num_unique_values\": 67,\n        \"samples\": [\n          72000\n        ],\n        \"semantic_type\": \"\",\n        \"description\": \"\"\n      }\n    }\n  ]\n}"
            }
          },
          "metadata": {},
          "execution_count": 399
        }
      ]
    },
    {
      "cell_type": "markdown",
      "source": [
        "**Bagian ini untuk mengetahui jumlah baris dan kolom data**"
      ],
      "metadata": {
        "id": "WZM7WCWbYNqY"
      }
    },
    {
      "cell_type": "code",
      "source": [
        "df.shape"
      ],
      "metadata": {
        "colab": {
          "base_uri": "https://localhost:8080/"
        },
        "id": "fjRd7tPlc-Vn",
        "outputId": "40afdecf-3280-4304-f226-9eefe5d82f77"
      },
      "execution_count": null,
      "outputs": [
        {
          "output_type": "execute_result",
          "data": {
            "text/plain": [
              "(99, 13)"
            ]
          },
          "metadata": {},
          "execution_count": 400
        }
      ]
    },
    {
      "cell_type": "markdown",
      "source": [
        "Ini menunjukkan data terdiri dari 99 baris dan 13 kolom"
      ],
      "metadata": {
        "id": "Ng8z_12Bex7v"
      }
    },
    {
      "cell_type": "markdown",
      "source": [
        "**Informasi umum tentang dataset, seperti tipe data dan nilai yang hilang**"
      ],
      "metadata": {
        "id": "OCN--b7UYXXM"
      }
    },
    {
      "cell_type": "code",
      "source": [
        "import numpy as np\n",
        "\n",
        "# replace \"?\" menjadi NaN\n",
        "df.replace(\"?\", np.nan, inplace = True)\n",
        "\n",
        "# cek banyaknya missing value pada masing-masing kolom\n",
        "print(df.isnull().sum())\n",
        "df.dtypes"
      ],
      "metadata": {
        "colab": {
          "base_uri": "https://localhost:8080/",
          "height": 735
        },
        "id": "g_DfksB5dO2k",
        "outputId": "a10bd532-6381-42e7-ec83-1ba6049257a5"
      },
      "execution_count": null,
      "outputs": [
        {
          "output_type": "stream",
          "name": "stdout",
          "text": [
            "color                   0\n",
            "director_name           0\n",
            "duration                0\n",
            "gross                   0\n",
            "genres                  0\n",
            "movie_title             0\n",
            "title_year              0\n",
            "language                0\n",
            "country                 0\n",
            "budget                  0\n",
            "imdb_score              0\n",
            "actors                  0\n",
            "movie_facebook_likes    0\n",
            "dtype: int64\n"
          ]
        },
        {
          "output_type": "execute_result",
          "data": {
            "text/plain": [
              "color                    object\n",
              "director_name            object\n",
              "duration                  int64\n",
              "gross                   float64\n",
              "genres                   object\n",
              "movie_title              object\n",
              "title_year                int64\n",
              "language                 object\n",
              "country                  object\n",
              "budget                  float64\n",
              "imdb_score              float64\n",
              "actors                   object\n",
              "movie_facebook_likes      int64\n",
              "dtype: object"
            ],
            "text/html": [
              "<div>\n",
              "<style scoped>\n",
              "    .dataframe tbody tr th:only-of-type {\n",
              "        vertical-align: middle;\n",
              "    }\n",
              "\n",
              "    .dataframe tbody tr th {\n",
              "        vertical-align: top;\n",
              "    }\n",
              "\n",
              "    .dataframe thead th {\n",
              "        text-align: right;\n",
              "    }\n",
              "</style>\n",
              "<table border=\"1\" class=\"dataframe\">\n",
              "  <thead>\n",
              "    <tr style=\"text-align: right;\">\n",
              "      <th></th>\n",
              "      <th>0</th>\n",
              "    </tr>\n",
              "  </thead>\n",
              "  <tbody>\n",
              "    <tr>\n",
              "      <th>color</th>\n",
              "      <td>object</td>\n",
              "    </tr>\n",
              "    <tr>\n",
              "      <th>director_name</th>\n",
              "      <td>object</td>\n",
              "    </tr>\n",
              "    <tr>\n",
              "      <th>duration</th>\n",
              "      <td>int64</td>\n",
              "    </tr>\n",
              "    <tr>\n",
              "      <th>gross</th>\n",
              "      <td>float64</td>\n",
              "    </tr>\n",
              "    <tr>\n",
              "      <th>genres</th>\n",
              "      <td>object</td>\n",
              "    </tr>\n",
              "    <tr>\n",
              "      <th>movie_title</th>\n",
              "      <td>object</td>\n",
              "    </tr>\n",
              "    <tr>\n",
              "      <th>title_year</th>\n",
              "      <td>int64</td>\n",
              "    </tr>\n",
              "    <tr>\n",
              "      <th>language</th>\n",
              "      <td>object</td>\n",
              "    </tr>\n",
              "    <tr>\n",
              "      <th>country</th>\n",
              "      <td>object</td>\n",
              "    </tr>\n",
              "    <tr>\n",
              "      <th>budget</th>\n",
              "      <td>float64</td>\n",
              "    </tr>\n",
              "    <tr>\n",
              "      <th>imdb_score</th>\n",
              "      <td>float64</td>\n",
              "    </tr>\n",
              "    <tr>\n",
              "      <th>actors</th>\n",
              "      <td>object</td>\n",
              "    </tr>\n",
              "    <tr>\n",
              "      <th>movie_facebook_likes</th>\n",
              "      <td>int64</td>\n",
              "    </tr>\n",
              "  </tbody>\n",
              "</table>\n",
              "</div><br><label><b>dtype:</b> object</label>"
            ]
          },
          "metadata": {},
          "execution_count": 420
        }
      ]
    },
    {
      "cell_type": "markdown",
      "source": [
        "# 3. Membersihkan Data"
      ],
      "metadata": {
        "id": "kfHhadkb5FJJ"
      }
    },
    {
      "cell_type": "markdown",
      "source": [
        "**Hapus baris yang memiliki nilai NaN pada kolom gross**"
      ],
      "metadata": {
        "id": "263n1rsL5KI1"
      }
    },
    {
      "cell_type": "code",
      "source": [
        "# simply drop whole row with NaN in \"gross\" column\n",
        "df.dropna(subset=[\"gross\"], axis=0, inplace=True)"
      ],
      "metadata": {
        "id": "wLN2mrKTiIbS"
      },
      "execution_count": null,
      "outputs": []
    },
    {
      "cell_type": "code",
      "source": [
        "# reset index, because we droped two rows\n",
        "df.reset_index(drop=True, inplace=True)"
      ],
      "metadata": {
        "id": "6fBEvzRa4bS6"
      },
      "execution_count": null,
      "outputs": []
    },
    {
      "cell_type": "code",
      "source": [
        "print(df.head())"
      ],
      "metadata": {
        "colab": {
          "base_uri": "https://localhost:8080/"
        },
        "id": "WrzhcQsB4eXq",
        "outputId": "a4f2d6a4-6326-4787-94c6-d2d3de20126f"
      },
      "execution_count": null,
      "outputs": [
        {
          "output_type": "stream",
          "name": "stdout",
          "text": [
            "    color      director_name  duration        gross  \\\n",
            "0   Color    Martin Scorsese       240  116866727.0   \n",
            "1   Color        Shane Black       195  408992272.0   \n",
            "2  color   Quentin Tarantino       187   54116191.0   \n",
            "3   Color   Kenneth Lonergan       186      46495.0   \n",
            "4   Color      Peter Jackson       186  258355354.0   \n",
            "\n",
            "                                 genres                          movie_title  \\\n",
            "0          Biography|Comedy|Crime|Drama              The Wolf of Wall Street   \n",
            "1               Action|Adventure|Sci-Fi                           Iron Man 3   \n",
            "2  Crime|Drama|Mystery|Thriller|Western                    The Hateful Eight   \n",
            "3                                 Drama                             Margaret   \n",
            "4                     Adventure|Fantasy  The Hobbit: The Desolation of Smaug   \n",
            "\n",
            "   title_year language country       budget  imdb_score  \\\n",
            "0        2013  English     USA  100000000.0         8.2   \n",
            "1        2013  English     USA  200000000.0         7.2   \n",
            "2        2015  English     USA   44000000.0         7.9   \n",
            "3        2011  English     usa   14000000.0         6.5   \n",
            "4        2013  English     USA  225000000.0         7.9   \n",
            "\n",
            "                                              actors  movie_facebook_likes  \n",
            "0  Leonardo DiCaprio,Matthew McConaughey,Jon Favreau                138000  \n",
            "1          Robert Downey Jr.,Jon Favreau,Don Cheadle                 95000  \n",
            "2          Craig Stark,Jennifer Jason Leigh,Zoë Bell                114000  \n",
            "3        Matt Damon,Kieran Culkin,John Gallagher Jr.                     0  \n",
            "4              Aidan Turner,Adam Brown,James Nesbitt                 83000  \n"
          ]
        }
      ]
    },
    {
      "cell_type": "markdown",
      "source": [
        "Cek banayaknya missing value setelah pembersihan data"
      ],
      "metadata": {
        "id": "Ig670F0ZeL6p"
      }
    },
    {
      "cell_type": "code",
      "source": [
        "# cek banyaknya missing value pada masing-masing kolom\n",
        "print(df.isnull().sum())"
      ],
      "metadata": {
        "colab": {
          "base_uri": "https://localhost:8080/"
        },
        "id": "zGxoiy2AGZly",
        "outputId": "0ec1aa4d-2fe9-4c70-d470-1fc59057d6f2"
      },
      "execution_count": null,
      "outputs": [
        {
          "output_type": "stream",
          "name": "stdout",
          "text": [
            "color                   10\n",
            "director_name           10\n",
            "duration                 0\n",
            "gross                    0\n",
            "genres                   1\n",
            "movie_title              0\n",
            "title_year               0\n",
            "language                 0\n",
            "country                  0\n",
            "budget                   2\n",
            "imdb_score               0\n",
            "actors                   0\n",
            "movie_facebook_likes     0\n",
            "dtype: int64\n"
          ]
        }
      ]
    },
    {
      "cell_type": "markdown",
      "source": [
        "Cek jumlah baris setelah pembersihan data"
      ],
      "metadata": {
        "id": "tlYU-_w3ZlHw"
      }
    },
    {
      "cell_type": "code",
      "source": [
        "df.shape"
      ],
      "metadata": {
        "colab": {
          "base_uri": "https://localhost:8080/"
        },
        "id": "I5P-n7PyHM_N",
        "outputId": "282222d7-e89d-460f-dd28-c4b8da252e00"
      },
      "execution_count": null,
      "outputs": [
        {
          "output_type": "execute_result",
          "data": {
            "text/plain": [
              "(91, 13)"
            ]
          },
          "metadata": {},
          "execution_count": 406
        }
      ]
    },
    {
      "cell_type": "markdown",
      "source": [
        "**Hapus baris yang memiliki nilai NaN pada kolom budget**"
      ],
      "metadata": {
        "id": "9WHmzBlf5M7I"
      }
    },
    {
      "cell_type": "code",
      "source": [
        "# simply drop whole row with NaN in \"budget\" column\n",
        "df.dropna(subset=[\"budget\"], axis=0, inplace=True)"
      ],
      "metadata": {
        "id": "TgMZOq7jhmyr"
      },
      "execution_count": null,
      "outputs": []
    },
    {
      "cell_type": "code",
      "source": [
        "# reset index, because we droped two rows\n",
        "df.reset_index(drop=True, inplace=True)"
      ],
      "metadata": {
        "id": "uiLuVqFzh8VX"
      },
      "execution_count": null,
      "outputs": []
    },
    {
      "cell_type": "code",
      "source": [
        "print(df.head())"
      ],
      "metadata": {
        "colab": {
          "base_uri": "https://localhost:8080/"
        },
        "id": "ZnpLoXeih-wR",
        "outputId": "619e3bd7-4948-40e2-a745-1dae1b38e929"
      },
      "execution_count": null,
      "outputs": [
        {
          "output_type": "stream",
          "name": "stdout",
          "text": [
            "    color      director_name  duration        gross  \\\n",
            "0   Color    Martin Scorsese       240  116866727.0   \n",
            "1   Color        Shane Black       195  408992272.0   \n",
            "2  color   Quentin Tarantino       187   54116191.0   \n",
            "3   Color   Kenneth Lonergan       186      46495.0   \n",
            "4   Color      Peter Jackson       186  258355354.0   \n",
            "\n",
            "                                 genres                          movie_title  \\\n",
            "0          Biography|Comedy|Crime|Drama              The Wolf of Wall Street   \n",
            "1               Action|Adventure|Sci-Fi                           Iron Man 3   \n",
            "2  Crime|Drama|Mystery|Thriller|Western                    The Hateful Eight   \n",
            "3                                 Drama                             Margaret   \n",
            "4                     Adventure|Fantasy  The Hobbit: The Desolation of Smaug   \n",
            "\n",
            "   title_year language country       budget  imdb_score  \\\n",
            "0        2013  English     USA  100000000.0         8.2   \n",
            "1        2013  English     USA  200000000.0         7.2   \n",
            "2        2015  English     USA   44000000.0         7.9   \n",
            "3        2011  English     usa   14000000.0         6.5   \n",
            "4        2013  English     USA  225000000.0         7.9   \n",
            "\n",
            "                                              actors  movie_facebook_likes  \n",
            "0  Leonardo DiCaprio,Matthew McConaughey,Jon Favreau                138000  \n",
            "1          Robert Downey Jr.,Jon Favreau,Don Cheadle                 95000  \n",
            "2          Craig Stark,Jennifer Jason Leigh,Zoë Bell                114000  \n",
            "3        Matt Damon,Kieran Culkin,John Gallagher Jr.                     0  \n",
            "4              Aidan Turner,Adam Brown,James Nesbitt                 83000  \n"
          ]
        }
      ]
    },
    {
      "cell_type": "markdown",
      "source": [
        "Cek missing value setelah menghapus baris yang memiliki nilai NaN pada kolom budget"
      ],
      "metadata": {
        "id": "uOuI11MdZgrZ"
      }
    },
    {
      "cell_type": "code",
      "source": [
        "# cek banyaknya missing value pada masing-masing kolom\n",
        "print(df.isnull().sum())"
      ],
      "metadata": {
        "colab": {
          "base_uri": "https://localhost:8080/"
        },
        "id": "jqvX2ShqGqWG",
        "outputId": "98d940d0-0f06-48f0-a12f-905c00cb5e57"
      },
      "execution_count": null,
      "outputs": [
        {
          "output_type": "stream",
          "name": "stdout",
          "text": [
            "color                   10\n",
            "director_name           10\n",
            "duration                 0\n",
            "gross                    0\n",
            "genres                   1\n",
            "movie_title              0\n",
            "title_year               0\n",
            "language                 0\n",
            "country                  0\n",
            "budget                   0\n",
            "imdb_score               0\n",
            "actors                   0\n",
            "movie_facebook_likes     0\n",
            "dtype: int64\n"
          ]
        }
      ]
    },
    {
      "cell_type": "markdown",
      "source": [
        "Cek jumlah baris setelah pembersihan data"
      ],
      "metadata": {
        "id": "_QU4Gzw9ZwgN"
      }
    },
    {
      "cell_type": "code",
      "source": [
        "df.shape"
      ],
      "metadata": {
        "colab": {
          "base_uri": "https://localhost:8080/"
        },
        "id": "QcfJ1gYWHPf1",
        "outputId": "376b05ae-e27a-4683-8735-79526a805b6f"
      },
      "execution_count": null,
      "outputs": [
        {
          "output_type": "execute_result",
          "data": {
            "text/plain": [
              "(89, 13)"
            ]
          },
          "metadata": {},
          "execution_count": 411
        }
      ]
    },
    {
      "cell_type": "markdown",
      "source": [
        "**Mengatasi nilai yang tidak konsisten atau kesalahan penulisan di kolom, seperti kolom \"color\", masih banyak perbedaan penulisan seperti \"color\" dengan \"Color\", sehingga dalam hal ini disamakan menjadi \"color\"**"
      ],
      "metadata": {
        "id": "YvB96zJaZ1he"
      }
    },
    {
      "cell_type": "code",
      "source": [
        "df[\"color\"] = df[\"color\"].str.strip().str.lower()\n",
        "print(df[\"color\"].value_counts())"
      ],
      "metadata": {
        "colab": {
          "base_uri": "https://localhost:8080/"
        },
        "id": "Z6VRSt1e9jNb",
        "outputId": "d2ac3752-c28e-48e8-a657-67376ed624a5"
      },
      "execution_count": null,
      "outputs": [
        {
          "output_type": "stream",
          "name": "stdout",
          "text": [
            "color\n",
            "color              78\n",
            "black and white     1\n",
            "Name: count, dtype: int64\n"
          ]
        }
      ]
    },
    {
      "cell_type": "code",
      "source": [
        "# cek banyaknya missing value pada masing-masing kolom\n",
        "print(df.isnull().sum())"
      ],
      "metadata": {
        "colab": {
          "base_uri": "https://localhost:8080/"
        },
        "id": "t2wmSVRbJAJF",
        "outputId": "1f75ffd6-e22e-4812-f530-3e9d8243c789"
      },
      "execution_count": null,
      "outputs": [
        {
          "output_type": "stream",
          "name": "stdout",
          "text": [
            "color                   10\n",
            "director_name           10\n",
            "duration                 0\n",
            "gross                    0\n",
            "genres                   1\n",
            "movie_title              0\n",
            "title_year               0\n",
            "language                 0\n",
            "country                  0\n",
            "budget                   0\n",
            "imdb_score               0\n",
            "actors                   0\n",
            "movie_facebook_likes     0\n",
            "dtype: int64\n"
          ]
        }
      ]
    },
    {
      "cell_type": "markdown",
      "source": [
        "**Mengubah atau menghapus nilai yang tidak standar, seperti nilai negatif atau N/A**"
      ],
      "metadata": {
        "id": "6NBlJ00OaalK"
      }
    },
    {
      "cell_type": "code",
      "source": [
        "df=df.dropna()\n",
        "print(df.isnull().sum())\n"
      ],
      "metadata": {
        "colab": {
          "base_uri": "https://localhost:8080/"
        },
        "id": "1Ki8JnR0JQOz",
        "outputId": "22f785d8-9050-412a-9f23-7d9548648c49"
      },
      "execution_count": null,
      "outputs": [
        {
          "output_type": "stream",
          "name": "stdout",
          "text": [
            "color                   0\n",
            "director_name           0\n",
            "duration                0\n",
            "gross                   0\n",
            "genres                  0\n",
            "movie_title             0\n",
            "title_year              0\n",
            "language                0\n",
            "country                 0\n",
            "budget                  0\n",
            "imdb_score              0\n",
            "actors                  0\n",
            "movie_facebook_likes    0\n",
            "dtype: int64\n"
          ]
        }
      ]
    },
    {
      "cell_type": "markdown",
      "source": [
        "Setelah melakukan semua pembersihan data maka sudah tidak ada missing value atau N/A"
      ],
      "metadata": {
        "id": "tCBX4W2Yal92"
      }
    },
    {
      "cell_type": "markdown",
      "source": [
        "# 4. Transformasi Data"
      ],
      "metadata": {
        "id": "8QgkUj7jKKZz"
      }
    },
    {
      "cell_type": "markdown",
      "source": [
        "**Untuk mengetahui type data**"
      ],
      "metadata": {
        "id": "3sL5lu0YazP5"
      }
    },
    {
      "cell_type": "code",
      "source": [
        "df.dtypes"
      ],
      "metadata": {
        "colab": {
          "base_uri": "https://localhost:8080/",
          "height": 492
        },
        "id": "mD03Gv6eKOEK",
        "outputId": "fc9345da-b5f1-4b2c-d794-c72fa3407321"
      },
      "execution_count": null,
      "outputs": [
        {
          "output_type": "execute_result",
          "data": {
            "text/plain": [
              "color                    object\n",
              "director_name            object\n",
              "duration                  int64\n",
              "gross                   float64\n",
              "genres                   object\n",
              "movie_title              object\n",
              "title_year                int64\n",
              "language                 object\n",
              "country                  object\n",
              "budget                  float64\n",
              "imdb_score              float64\n",
              "actors                   object\n",
              "movie_facebook_likes      int64\n",
              "dtype: object"
            ],
            "text/html": [
              "<div>\n",
              "<style scoped>\n",
              "    .dataframe tbody tr th:only-of-type {\n",
              "        vertical-align: middle;\n",
              "    }\n",
              "\n",
              "    .dataframe tbody tr th {\n",
              "        vertical-align: top;\n",
              "    }\n",
              "\n",
              "    .dataframe thead th {\n",
              "        text-align: right;\n",
              "    }\n",
              "</style>\n",
              "<table border=\"1\" class=\"dataframe\">\n",
              "  <thead>\n",
              "    <tr style=\"text-align: right;\">\n",
              "      <th></th>\n",
              "      <th>0</th>\n",
              "    </tr>\n",
              "  </thead>\n",
              "  <tbody>\n",
              "    <tr>\n",
              "      <th>color</th>\n",
              "      <td>object</td>\n",
              "    </tr>\n",
              "    <tr>\n",
              "      <th>director_name</th>\n",
              "      <td>object</td>\n",
              "    </tr>\n",
              "    <tr>\n",
              "      <th>duration</th>\n",
              "      <td>int64</td>\n",
              "    </tr>\n",
              "    <tr>\n",
              "      <th>gross</th>\n",
              "      <td>float64</td>\n",
              "    </tr>\n",
              "    <tr>\n",
              "      <th>genres</th>\n",
              "      <td>object</td>\n",
              "    </tr>\n",
              "    <tr>\n",
              "      <th>movie_title</th>\n",
              "      <td>object</td>\n",
              "    </tr>\n",
              "    <tr>\n",
              "      <th>title_year</th>\n",
              "      <td>int64</td>\n",
              "    </tr>\n",
              "    <tr>\n",
              "      <th>language</th>\n",
              "      <td>object</td>\n",
              "    </tr>\n",
              "    <tr>\n",
              "      <th>country</th>\n",
              "      <td>object</td>\n",
              "    </tr>\n",
              "    <tr>\n",
              "      <th>budget</th>\n",
              "      <td>float64</td>\n",
              "    </tr>\n",
              "    <tr>\n",
              "      <th>imdb_score</th>\n",
              "      <td>float64</td>\n",
              "    </tr>\n",
              "    <tr>\n",
              "      <th>actors</th>\n",
              "      <td>object</td>\n",
              "    </tr>\n",
              "    <tr>\n",
              "      <th>movie_facebook_likes</th>\n",
              "      <td>int64</td>\n",
              "    </tr>\n",
              "  </tbody>\n",
              "</table>\n",
              "</div><br><label><b>dtype:</b> object</label>"
            ]
          },
          "metadata": {},
          "execution_count": 415
        }
      ]
    },
    {
      "cell_type": "markdown",
      "source": [
        "Karena tipe data sudah sesuai semua, maka tidak ada yang perlu diganti lagi"
      ],
      "metadata": {
        "id": "3Nb-UE40a4A9"
      }
    },
    {
      "cell_type": "markdown",
      "source": [
        "**Memisahkan kolom \"genre\" yang awalnya bergabung dalam satu kolom menjadi beberapa kolom terpisah**"
      ],
      "metadata": {
        "id": "hQE1vcU4cfoN"
      }
    },
    {
      "cell_type": "code",
      "source": [
        "# buat dummy variable untuk semua genre\n",
        "df_genres_ohe = df['genres'].str.get_dummies(sep='|')\n",
        "\n",
        "# gabungkan ke dataframe asli\n",
        "df_ohe = pd.concat([df, df_genres_ohe], axis=1)\n",
        "\n",
        "print(df_ohe.head(10))\n"
      ],
      "metadata": {
        "colab": {
          "base_uri": "https://localhost:8080/"
        },
        "id": "kBwyFKIYLtFt",
        "outputId": "ffcfb280-004b-43a4-cbfe-19c80710b4cc"
      },
      "execution_count": null,
      "outputs": [
        {
          "output_type": "stream",
          "name": "stdout",
          "text": [
            "    color      director_name  duration        gross  \\\n",
            "0   color    Martin Scorsese       240  116866727.0   \n",
            "1   color        Shane Black       195  408992272.0   \n",
            "2   color  Quentin Tarantino       187   54116191.0   \n",
            "3   color   Kenneth Lonergan       186      46495.0   \n",
            "4   color      Peter Jackson       186  258355354.0   \n",
            "6   color      Peter Jackson       -50  303001229.0   \n",
            "7   color        Joss Whedon       173  623279547.0   \n",
            "8   color        Joss Whedon       173  623279547.0   \n",
            "10  color               Null       158  102515793.0   \n",
            "12  color  Christopher Nolan       169  187991439.0   \n",
            "\n",
            "                                  genres                          movie_title  \\\n",
            "0           Biography|Comedy|Crime|Drama              The Wolf of Wall Street   \n",
            "1                Action|Adventure|Sci-Fi                           Iron Man 3   \n",
            "2   Crime|Drama|Mystery|Thriller|Western                    The Hateful Eight   \n",
            "3                                  Drama                             Margaret   \n",
            "4                      Adventure|Fantasy  The Hobbit: The Desolation of Smaug   \n",
            "6                      Adventure|Fantasy    The Hobbit: An Unexpected Journey   \n",
            "7                Action|Adventure|Sci-Fi                         The Avengers   \n",
            "8                Action|Adventure|Sci-Fi                         The Avengers   \n",
            "10          Crime|Drama|Mystery|Thriller      The Girl with the Dragon Tattoo   \n",
            "12                Adventure|Drama|Sci-Fi                         Interstellar   \n",
            "\n",
            "    title_year language country       budget  ...  History Music  Musical  \\\n",
            "0         2013  English     USA  100000000.0  ...        0     0        0   \n",
            "1         2013  English     USA  200000000.0  ...        0     0        0   \n",
            "2         2015  English     USA   44000000.0  ...        0     0        0   \n",
            "3         2011  English     usa   14000000.0  ...        0     0        0   \n",
            "4         2013  English     USA  225000000.0  ...        0     0        0   \n",
            "6         2012  English     USA  180000000.0  ...        0     0        0   \n",
            "7         2012  English     USA  220000000.0  ...        0     0        0   \n",
            "8         2012  English     USA  220000000.0  ...        0     0        0   \n",
            "10        2011  English     USA   90000000.0  ...        0     0        0   \n",
            "12        2014  English     USA  165000000.0  ...        0     0        0   \n",
            "\n",
            "    Mystery  Romance  Sci-Fi  Sport  Thriller  War  Western  \n",
            "0         0        0       0      0         0    0        0  \n",
            "1         0        0       1      0         0    0        0  \n",
            "2         1        0       0      0         1    0        1  \n",
            "3         0        0       0      0         0    0        0  \n",
            "4         0        0       0      0         0    0        0  \n",
            "6         0        0       0      0         0    0        0  \n",
            "7         0        0       1      0         0    0        0  \n",
            "8         0        0       1      0         0    0        0  \n",
            "10        1        0       0      0         1    0        0  \n",
            "12        0        0       1      0         0    0        0  \n",
            "\n",
            "[10 rows x 30 columns]\n"
          ]
        }
      ]
    },
    {
      "cell_type": "markdown",
      "source": [
        "Pada bagian ini menggunakan dummy variabel untuk semua genre, dan muncul tambahan kolom baru untuk semua genre"
      ],
      "metadata": {
        "id": "kWmk8n45c0mt"
      }
    },
    {
      "cell_type": "markdown",
      "source": [
        "Walaupun ada tambahan kolom baru tp sudah tidak ada missing value di setiap kolomnya soalnya menggunakan dummy variabel"
      ],
      "metadata": {
        "id": "-aF7AYzddGmk"
      }
    },
    {
      "cell_type": "code",
      "source": [
        "# cek banyaknya missing value pada masing-masing kolom\n",
        "print(df.isnull().sum())"
      ],
      "metadata": {
        "colab": {
          "base_uri": "https://localhost:8080/"
        },
        "id": "pbNcpYKNNNFd",
        "outputId": "aca6fcf3-a53e-43f2-8ae1-574b0e517aa2"
      },
      "execution_count": null,
      "outputs": [
        {
          "output_type": "stream",
          "name": "stdout",
          "text": [
            "color                   0\n",
            "director_name           0\n",
            "duration                0\n",
            "gross                   0\n",
            "genres                  0\n",
            "movie_title             0\n",
            "title_year              0\n",
            "language                0\n",
            "country                 0\n",
            "budget                  0\n",
            "imdb_score              0\n",
            "actors                  0\n",
            "movie_facebook_likes    0\n",
            "dtype: int64\n"
          ]
        }
      ]
    },
    {
      "cell_type": "markdown",
      "source": [
        "**Normalisasi teks untuk memastikan konsistensi**"
      ],
      "metadata": {
        "id": "Zf7FI35Ldhqg"
      }
    },
    {
      "cell_type": "markdown",
      "source": [
        "Dalam hal ini, semua teks diubah menjadi huruf kecil"
      ],
      "metadata": {
        "id": "8LTPNTxjdnuD"
      }
    },
    {
      "cell_type": "code",
      "source": [
        "for col in df_ohe.select_dtypes(include='object').columns:\n",
        "    df_ohe[col] = df_ohe[col].str.strip().str.lower()\n",
        "    df_ohe.columns = df_ohe.columns.str.strip().str.lower()\n",
        "\n",
        "print(df_ohe.head())\n"
      ],
      "metadata": {
        "colab": {
          "base_uri": "https://localhost:8080/"
        },
        "id": "Pzp4OaXrTpC0",
        "outputId": "bb77618b-b1d3-404b-9c58-3e1e09452ef4"
      },
      "execution_count": null,
      "outputs": [
        {
          "output_type": "stream",
          "name": "stdout",
          "text": [
            "   color      director_name  duration        gross  \\\n",
            "0  color    martin scorsese       240  116866727.0   \n",
            "1  color        shane black       195  408992272.0   \n",
            "2  color  quentin tarantino       187   54116191.0   \n",
            "3  color   kenneth lonergan       186      46495.0   \n",
            "4  color      peter jackson       186  258355354.0   \n",
            "\n",
            "                                 genres                          movie_title  \\\n",
            "0          biography|comedy|crime|drama              the wolf of wall street   \n",
            "1               action|adventure|sci-fi                           iron man 3   \n",
            "2  crime|drama|mystery|thriller|western                    the hateful eight   \n",
            "3                                 drama                             margaret   \n",
            "4                     adventure|fantasy  the hobbit: the desolation of smaug   \n",
            "\n",
            "   title_year language country       budget  ...  history music  musical  \\\n",
            "0        2013  english     usa  100000000.0  ...        0     0        0   \n",
            "1        2013  english     usa  200000000.0  ...        0     0        0   \n",
            "2        2015  english     usa   44000000.0  ...        0     0        0   \n",
            "3        2011  english     usa   14000000.0  ...        0     0        0   \n",
            "4        2013  english     usa  225000000.0  ...        0     0        0   \n",
            "\n",
            "   mystery  romance  sci-fi  sport  thriller  war  western  \n",
            "0        0        0       0      0         0    0        0  \n",
            "1        0        0       1      0         0    0        0  \n",
            "2        1        0       0      0         1    0        1  \n",
            "3        0        0       0      0         0    0        0  \n",
            "4        0        0       0      0         0    0        0  \n",
            "\n",
            "[5 rows x 30 columns]\n"
          ]
        }
      ]
    },
    {
      "cell_type": "markdown",
      "source": [
        "# 5. Penyimpanan Data"
      ],
      "metadata": {
        "id": "AwobMk0lWQrQ"
      }
    },
    {
      "cell_type": "markdown",
      "source": [
        "**Menyimpan data yang telah diproses ke dalam file csv**"
      ],
      "metadata": {
        "id": "wx6DzITLduH6"
      }
    },
    {
      "cell_type": "code",
      "source": [
        "df_ohe.to_csv(\"movie_dataset_cleaned.csv\", index=False)\n"
      ],
      "metadata": {
        "id": "B5qySqbfVgY5"
      },
      "execution_count": null,
      "outputs": []
    }
  ]
}